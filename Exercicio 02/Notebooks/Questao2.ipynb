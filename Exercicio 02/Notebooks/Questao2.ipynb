{
 "cells": [
  {
   "cell_type": "markdown",
   "metadata": {},
   "source": [
    "###### Acadêmicos: Gabriel Schneider de Jesus e Luciane Tedesco"
   ]
  },
  {
   "cell_type": "markdown",
   "metadata": {},
   "source": [
    "# Lista de Exercícios 02"
   ]
  },
  {
   "cell_type": "markdown",
   "metadata": {},
   "source": [
    "___"
   ]
  },
  {
   "cell_type": "markdown",
   "metadata": {},
   "source": [
    "## Questão 2\n",
    "Implementação da validação de dados de entrada através de uma lista branca."
   ]
  },
  {
   "cell_type": "markdown",
   "metadata": {},
   "source": [
    "### Código fonte"
   ]
  },
  {
   "cell_type": "code",
   "execution_count": null,
   "metadata": {},
   "outputs": [],
   "source": [
    "import psycopg2\n",
    "try:\n",
    "\n",
    "  # Cria uma conexão com o banco de dados\n",
    "  connection = psycopg2.connect(user = \"postgres\",\n",
    "                                password = \"postgres\",\n",
    "                                host=\"localhost\",\n",
    "                                port = \"5432\",\n",
    "                                database = \"pg_db\")\n",
    "  cursor = connection.cursor()\n",
    "\n",
    "  # Cria a tabela professor com os campos nome, titulação e departamento\n",
    "  cursor.execute(\"CREATE TABLE professor (id_professor int, nm_professor varchar(50), ds_titulacao varchar(30), ds_departamento varchar(30), PRIMARY KEY(id_professor));\")\n",
    "  \n",
    "  # Popula a tabela\n",
    "  cursor.execute(\"INSERT INTO professor (id_professor, nm_professor, ds_titulacao, ds_departamento) VALUES (1, 'Gilvan Justino', 'Mestrado', 'Sistemas e Computação');\")\n",
    "  cursor.execute(\"INSERT INTO professor (id_professor, nm_professor, ds_titulacao, ds_departamento) VALUES (2, 'Aurélio Faustino Hoppe', 'Mestrado', 'Sistemas e Computação');\")\n",
    "  cursor.execute(\"INSERT INTO professor (id_professor, nm_professor, ds_titulacao, ds_departamento) VALUES (3, 'Georges Cherry Rodrigues', 'Mestrado', 'Matemática');\")\n",
    "  cursor.execute(\"INSERT INTO professor (id_professor, nm_professor, ds_titulacao, ds_departamento) VALUES (4, 'Luciana Pereira de Araújo Kohler', 'Mestrado', 'Sistemas e Computação');\")\n",
    "  cursor.execute(\"INSERT INTO professor (id_professor, nm_professor, ds_titulacao, ds_departamento) VALUES (5, 'Everaldo Artur Grahl', 'Mestrado', 'Sistemas e Computação');\")\n",
    "  cursor.execute(\"INSERT INTO professor (id_professor, nm_professor, ds_titulacao, ds_departamento) VALUES (6, 'Francisco Adell Péricas', 'Mestrado', 'Sistemas e Computação');\")\n",
    "  cursor.execute(\"INSERT INTO professor (id_professor, nm_professor, ds_titulacao, ds_departamento) VALUES (7, 'Andreza Sartori', 'Doutorado', 'Sistemas e Computação');\")\n",
    "  cursor.execute(\"INSERT INTO professor (id_professor, nm_professor, ds_titulacao, ds_departamento) VALUES (8, 'Dalton Solano dos Reis', 'Mestrado', 'Sistemas e Computação');\")\n",
    "  cursor.execute(\"INSERT INTO professor (id_professor, nm_professor, ds_titulacao, ds_departamento) VALUES (9, 'Marcel Hugo', 'Mestrado', 'Sistemas e Computação');\")\n",
    "  cursor.execute(\"INSERT INTO professor (id_professor, nm_professor, ds_titulacao, ds_departamento) VALUES (10, 'Joyce Martins', 'Mestrado', 'Sistemas e Computação');\")\n",
    "  \n",
    "  # Prevenção de Sql Injection com lista branca\n",
    "  possible_characters = [' ', 'a', 'b', 'c', 'd', 'e', 'f', 'g', 'h', 'i', 'j', 'k', 'l', 'm', 'n', 'o', 'p', 'q', 'r', 's', 't', 'u', 'v', 'x', 'z','á', 'ã', 'à', 'â', 'í', 'ì', 'î', 'ú', 'ù', 'û', 'é', 'è', 'ê', 'ó', 'ò', 'õ', 'ô']\n",
    "  name = input('Digite o nome do professor: ')\n",
    "\n",
    "  for letter in name.lower():\n",
    "  \tif letter not in possible_characters:\n",
    "  \t\traise Exception(\"Caractere \\'\" + letter + \"\\' não permitido.\")\n",
    "  \t\t\n",
    "  cursor.execute(\"SELECT * FROM professor WHERE nm_professor = '%s';\" % name)\n",
    "  \n",
    "  # Recupera e mostra os registros\n",
    "  print('Registro(s): ', cursor.rowcount)\n",
    "  for row in cursor.fetchall():\n",
    "    print (row)\n",
    "\n",
    "except (Exception, psycopg2.Error) as error:\n",
    "  print (\"Erro ao conectar.\", error)\n",
    "  \n",
    "finally:\n",
    "# Fecha a conexão\n",
    "  if (connection):\n",
    "    cursor.close()\n",
    "    connection.close()"
   ]
  },
  {
   "cell_type": "markdown",
   "metadata": {},
   "source": [
    "### Evidências\n",
    "Para corrigir a vulnerabilidade de entradas inadequadas de dados, implementamos uma validação de lista branca. A lista *possible_characters* possui todas as entradas aceitáveis."
   ]
  },
  {
   "cell_type": "markdown",
   "metadata": {},
   "source": [
    "__Exemplos:__"
   ]
  },
  {
   "attachments": {
    "Screenshot%20from%202019-08-18%2013-02-40.png": {
     "image/png": "[encoded data removed]"
    }
   },
   "cell_type": "markdown",
   "metadata": {},
   "source": [
    "1.  Com a validação implementada, o usuário não conseguirá utilizar caracteres especiais. É aceito apenas os caracteres considerados válidos.\n",
    "![Screenshot%20from%202019-08-18%2013-02-40.png](attachment:Screenshot%20from%202019-08-18%2013-02-40.png)"
   ]
  }
 ],
 "metadata": {
  "kernelspec": {
   "display_name": "Python 3",
   "language": "python",
   "name": "python3"
  },
  "language_info": {
   "codemirror_mode": {
    "name": "ipython",
    "version": 3
   },
   "file_extension": ".py",
   "mimetype": "text/x-python",
   "name": "python",
   "nbconvert_exporter": "python",
   "pygments_lexer": "ipython3",
   "version": "3.7.3"
  }
 },
 "nbformat": 4,
 "nbformat_minor": 2
}
