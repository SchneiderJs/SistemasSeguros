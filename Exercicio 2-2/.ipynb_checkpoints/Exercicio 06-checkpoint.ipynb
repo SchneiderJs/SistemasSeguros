{
 "cells": [
  {
   "cell_type": "markdown",
   "metadata": {},
   "source": [
    "# Cifra de Vigenère \n",
    "#### Acadêmicos: Gabriel Schneider de Jesus e Luciane Tedesco"
   ]
  },
  {
   "cell_type": "markdown",
   "metadata": {},
   "source": [
    "Este trabalho visa demonstrar a implementação do algoritmo de cifragem denominado \"Cifra de Vigenère\""
   ]
  },
  {
   "cell_type": "markdown",
   "metadata": {},
   "source": [
    "#### Entradas de texto"
   ]
  },
  {
   "cell_type": "code",
   "execution_count": 27,
   "metadata": {},
   "outputs": [
    {
     "name": "stdout",
     "output_type": "stream",
     "text": [
      "Digite o texto à ser criptografado: THEY DRIK WATER\n",
      "Texto: THEY DRIK WATER\n",
      "\n",
      "Digite o chave do algoritmo: DUH\n",
      "Chave: DUH\n"
     ]
    }
   ],
   "source": [
    "import re\n",
    "from helpers import *\n",
    "\n",
    "texto = input(\"Digite o texto à ser criptografado: \")\n",
    "print(\"Texto: \" + texto + \"\\n\")\n",
    "\n",
    "chave = input(\"Digite o chave do algoritmo: \")\n",
    "print(\"Chave: \" + chave)"
   ]
  },
  {
   "cell_type": "markdown",
   "metadata": {},
   "source": [
    "#### Criptografar o texto"
   ]
  },
  {
   "cell_type": "code",
   "execution_count": 28,
   "metadata": {},
   "outputs": [
    {
     "name": "stdout",
     "output_type": "stream",
     "text": [
      "W\n",
      "\\\n",
      "L\n",
      "\\\n",
      "4\n",
      "K\n",
      "U\n",
      "]\n",
      "R\n",
      "#\n",
      "k\n",
      "H\n",
      "W\n",
      "Y\n",
      "Y\n"
     ]
    }
   ],
   "source": [
    "from itertools import cycle\n",
    "chave_ciclica = cycle(chave)\n",
    "\n",
    "len_texto = len(texto)\n",
    "i = 0\n",
    "pivo = ord('A')\n",
    "for k in chave_ciclica:\n",
    "    if i == len_texto:\n",
    "        break\n",
    "     \n",
    "    k = ord(k) - pivo\n",
    "    print (chr(ord(texto[i])+k))\n",
    "    i = i + 1"
   ]
  },
  {
   "cell_type": "markdown",
   "metadata": {},
   "source": [
    "#### Decriptografar o texto"
   ]
  },
  {
   "cell_type": "code",
   "execution_count": null,
   "metadata": {},
   "outputs": [],
   "source": []
  },
  {
   "cell_type": "code",
   "execution_count": null,
   "metadata": {},
   "outputs": [],
   "source": []
  },
  {
   "cell_type": "code",
   "execution_count": null,
   "metadata": {},
   "outputs": [],
   "source": []
  },
  {
   "cell_type": "code",
   "execution_count": null,
   "metadata": {},
   "outputs": [],
   "source": []
  },
  {
   "cell_type": "code",
   "execution_count": null,
   "metadata": {},
   "outputs": [],
   "source": [
    "def criptografar(texto, chave):\n",
    "    texto_criptografado = texto\n",
    "    for c in chave:\n",
    "        \n",
    "    return texto_criptografado"
   ]
  },
  {
   "cell_type": "code",
   "execution_count": 4,
   "metadata": {},
   "outputs": [
    {
     "name": "stdout",
     "output_type": "stream",
     "text": [
      "Texto criptografado: Jdeulho - Oxfldqh: 2019\n"
     ]
    }
   ],
   "source": [
    "texto_criptografado = \"\".join([chr(ord(c)+3) if re.match(\"[a-w]|[A-W]\", c) is not None \n",
    "                               else escolher_subst_enc(c) for c in texto])\n",
    "\n",
    "print(\"Texto criptografado: \" + texto_criptografado)"
   ]
  },
  {
   "cell_type": "code",
   "execution_count": 5,
   "metadata": {},
   "outputs": [
    {
     "name": "stdout",
     "output_type": "stream",
     "text": [
      "Texto decriptografado: Gabriel - Luciane: 2019\n"
     ]
    }
   ],
   "source": [
    "texto_decriptografado = \"\".join([chr(ord(c)-3) if re.match(\"[d-z]|[D-Z]\", c) is not None\n",
    "                                               else escolher_subst_dec(c) for c in texto_criptografado])\n",
    "\n",
    "print(\"Texto decriptografado: \" + texto_decriptografado)"
   ]
  }
 ],
 "metadata": {
  "kernelspec": {
   "display_name": "Python 3",
   "language": "python",
   "name": "python3"
  },
  "language_info": {
   "codemirror_mode": {
    "name": "ipython",
    "version": 3
   },
   "file_extension": ".py",
   "mimetype": "text/x-python",
   "name": "python",
   "nbconvert_exporter": "python",
   "pygments_lexer": "ipython3",
   "version": "3.7.4"
  }
 },
 "nbformat": 4,
 "nbformat_minor": 2
}
