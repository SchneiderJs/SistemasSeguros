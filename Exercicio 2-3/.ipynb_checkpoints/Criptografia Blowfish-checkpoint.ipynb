{
 "cells": [
  {
   "cell_type": "markdown",
   "metadata": {},
   "source": [
    "# Criptografia Blowfish\n",
    "\n",
    "#### Alunos: Gabriel Schneider de Jesus e Luciane Tedesco\n",
    "\n",
    "Neste projeto, utilizaremos o algoritmo “Blowfish”. Este algoritmo utiliza cifragem de bloco de 64 bits. Para isso, será utilizado o esquema de preenchimento de bloco PKCS#5 para todos os casos descritos e como chave, a sequência de caracteres \"ABCDE\""
   ]
  },
  {
   "cell_type": "code",
   "execution_count": 41,
   "metadata": {},
   "outputs": [],
   "source": [
    "from struct import pack\n",
    "from Crypto.Cipher import Blowfish\n",
    "from Crypto.Util.Padding import pad, unpad\n",
    "\n",
    "key = b'ABCDE'\n",
    "\n",
    "def cifrar(plaintext, cipher):\n",
    "    msg = cipher.encrypt(pad(plaintext, Blowfish.block_size))\n",
    "    return msg\n",
    "\n",
    "def decifrar(ciphertext, cipher):\n",
    "    msg = unpad(cipher.decrypt(ciphertext), Blowfish.block_size)\n",
    "    return msg"
   ]
  },
  {
   "cell_type": "markdown",
   "metadata": {},
   "source": [
    "### Modo ECB"
   ]
  },
  {
   "cell_type": "markdown",
   "metadata": {},
   "source": [
    "\n",
    "#### Caso 1\n",
    "\n",
    "Criptografar o texto “FURB” usando o modo de operação “ECB”\n",
    "- Qual o conteúdo do texto cifrado (em hexadecimal)?\n",
    "- Qual a extensão (quantidade de caracteres) do texto cifrado?\n"
   ]
  },
  {
   "cell_type": "code",
   "execution_count": 29,
   "metadata": {},
   "outputs": [
    {
     "name": "stdout",
     "output_type": "stream",
     "text": [
      "Conteúdo do texto cifrado em hexadecimal: 7f4700aa6f5fe08b\n",
      "Extensão do texto cifrado: 8\n",
      "Possui oito bytes, sendo 4 utilizados para o preenchemento do bloco\n"
     ]
    }
   ],
   "source": [
    "plaintext= b'FURB'\n",
    "cipher = Blowfish.new(key, Blowfish.MODE_ECB)\n",
    "\n",
    "print('Conteúdo do texto cifrado em hexadecimal: ' + str(cifrar(plaintext, cipher).hex()))\n",
    "print('Extensão do texto cifrado: ' + str(len(cifrar(plaintext, cipher))))\n",
    "print(\"Possui oito bytes, sendo 4 utilizados para o preenchemento do bloco\")"
   ]
  },
  {
   "cell_type": "markdown",
   "metadata": {},
   "source": [
    "#### Caso 2\n",
    "\n",
    "Criptografe “COMPUTADOR” usando o modo de operação “ECB”\n",
    "\n",
    "- Qual o conteúdo do texto cifrado (em hexadecimal)? \n",
    "- Qual a extensão do texto cifrado?\n",
    "- Por que o texto cifrado tem tal tamanho?"
   ]
  },
  {
   "cell_type": "code",
   "execution_count": 30,
   "metadata": {},
   "outputs": [
    {
     "name": "stdout",
     "output_type": "stream",
     "text": [
      "Conteúdo do texto cifrado em hexadecimal: f34739ab7634c4efe50ff1b554856572\n",
      "Extensão do texto cifrado: 16\n",
      "Pois contém oito bytes do texto simples mais 6 bytes de preenchemento, sendo formado dois blocos com 8 bytes cada\n"
     ]
    }
   ],
   "source": [
    "plaintext= b'COMPUTADOR'\n",
    "cipher = Blowfish.new(key, Blowfish.MODE_ECB)\n",
    "\n",
    "print('Conteúdo do texto cifrado em hexadecimal: ' + str(cifrar(plaintext, cipher).hex()))\n",
    "print('Extensão do texto cifrado: ' + str(len(cifrar(plaintext, cipher))))\n",
    "print(\"Pois contém oito bytes do texto simples mais 6 bytes de preenchemento, sendo formado dois blocos com 8 bytes cada\")"
   ]
  },
  {
   "cell_type": "markdown",
   "metadata": {},
   "source": [
    "#### Caso 3\n",
    "\n",
    "Criptografe “SABONETE” utilizando o modo de operação “ECB”\n",
    "\n",
    "- Qual o conteúdo do texto cifrado (em hexadecimal)? \n",
    "- Qual a extensão do texto cifrado?\n",
    "- Por que o texto cifrado tem tal tamanho?"
   ]
  },
  {
   "cell_type": "code",
   "execution_count": 31,
   "metadata": {},
   "outputs": [
    {
     "name": "stdout",
     "output_type": "stream",
     "text": [
      "Conteúdo do texto cifrado em hexadecimal: 841091472604b96acdbc3e2fefa73bdd\n",
      "Extensão do texto cifrado: 16\n",
      "Pois contém oito bytes do texto simples mais oito bytes de preenchimento. Estes últimos oito bytes são nescessários pois o último dígito deve sempre guardar a quantidade de bytes que foram completados\n"
     ]
    }
   ],
   "source": [
    "plaintext= b'SABONETE'\n",
    "cipher = Blowfish.new(key, Blowfish.MODE_ECB)\n",
    "\n",
    "print('Conteúdo do texto cifrado em hexadecimal: ' + str(cifrar(plaintext, cipher).hex()))\n",
    "print('Extensão do texto cifrado: ' + str(len(cifrar(plaintext, cipher))))\n",
    "print(\"Pois contém oito bytes do texto simples mais oito bytes de preenchimento. Estes últimos oito bytes são nescessários pois o último dígito deve sempre guardar a quantidade de bytes que foram completados\")"
   ]
  },
  {
   "cell_type": "markdown",
   "metadata": {},
   "source": [
    "#### Caso 4\n",
    "\n",
    "Criptografe “SABONETESABONETESABONETE” utilizando o modo de operação “ECB”\n",
    "\n",
    "- Qual o conteúdo do texto cifrado (em hexadecimal)? \n",
    "- Qual a extensão do texto cifrado?\n",
    "- Avalie o conteúdo do texto cifrado. Que conclusão é possível obter a partir do texto cifrado e do texto simples?"
   ]
  },
  {
   "cell_type": "code",
   "execution_count": 32,
   "metadata": {},
   "outputs": [
    {
     "name": "stdout",
     "output_type": "stream",
     "text": [
      "Conteúdo do texto cifrado em hexadecimal: 841091472604b96a841091472604b96a841091472604b96acdbc3e2fefa73bdd\n",
      "Extensão do texto cifrado: 32\n",
      "Existe a nescessidade de um bloco utilizado apenas para o preenchimento, pois o último dígito deve sempre guardar a quantidade de bytes a serem completados. Como o texto cifrado possui 24 bytes, sendo desta maneira, múltiplo de 8, tornou-se nescessário a alocação de um bloco inteiro.\n"
     ]
    }
   ],
   "source": [
    "plaintext= b'SABONETESABONETESABONETE'\n",
    "cipher = Blowfish.new(key, Blowfish.MODE_ECB)\n",
    "\n",
    "print('Conteúdo do texto cifrado em hexadecimal: ' + str(cifrar(plaintext, cipher).hex()))\n",
    "print('Extensão do texto cifrado: ' + str(len(cifrar(plaintext, cipher))))\n",
    "print(\"Existe a nescessidade de um bloco utilizado apenas para o preenchimento, pois o último dígito deve sempre guardar a quantidade de bytes a serem completados. Como o texto cifrado possui 24 bytes, sendo desta maneira, múltiplo de 8, tornou-se nescessário a alocação de um bloco inteiro.\")"
   ]
  },
  {
   "cell_type": "markdown",
   "metadata": {},
   "source": [
    "#### Caso 9\n",
    "\n",
    "Criptografe o texto “FURB” usando o modo de operação “ECB”. \n",
    "\n",
    "A partir do texto cifrado obtido, tente decifrá-lo utilizando a chave “11111”. Explique o resultado."
   ]
  },
  {
   "cell_type": "code",
   "execution_count": 33,
   "metadata": {},
   "outputs": [
    {
     "name": "stdout",
     "output_type": "stream",
     "text": [
      "Padding is incorrect.\n"
     ]
    }
   ],
   "source": [
    "cipher = Blowfish.new(key, Blowfish.MODE_ECB)\n",
    "texto_cifrado = cipher.encrypt(pad(plaintext, Blowfish.block_size)) \n",
    "\n",
    "try:\n",
    "    cipher_dec = Blowfish.new(b'11111', Blowfish.MODE_ECB)\n",
    "    texto_decifrado = unpad(cipher_dec.decrypt(texto_cifrado), Blowfish.block_size)\n",
    "except Exception as e:\n",
    "    print(e)"
   ]
  },
  {
   "cell_type": "code",
   "execution_count": 78,
   "metadata": {},
   "outputs": [],
   "source": [
    "# nao foi possivel decifrar o texto pois a chave é diferente para a cifragem"
   ]
  },
  {
   "cell_type": "markdown",
   "metadata": {},
   "source": [
    "## Modo CBC\n",
    "\n",
    "#### Caso 5: \n",
    "\n",
    "Criptografe o texto “FURB” e agora utilize o modo de operação “CBC”.\n",
    "\n",
    "- Qual o conteúdo do texto cifrado (em hexadecimal)?\n",
    "- Tente decifrar o texto cifrado, para recuperar o texto simples. O que acontece?"
   ]
  },
  {
   "cell_type": "code",
   "execution_count": 44,
   "metadata": {},
   "outputs": [
    {
     "name": "stdout",
     "output_type": "stream",
     "text": [
      "Conteúdo do texto cifrado em hexadecimal: 263237fa56fb31d0\n"
     ]
    },
    {
     "ename": "ValueError",
     "evalue": "Padding is incorrect.",
     "output_type": "error",
     "traceback": [
      "\u001b[1;31m---------------------------------------------------------------------------\u001b[0m",
      "\u001b[1;31mValueError\u001b[0m                                Traceback (most recent call last)",
      "\u001b[1;32m<ipython-input-44-1967f12bf320>\u001b[0m in \u001b[0;36m<module>\u001b[1;34m\u001b[0m\n\u001b[0;32m      5\u001b[0m \u001b[1;33m\u001b[0m\u001b[0m\n\u001b[0;32m      6\u001b[0m \u001b[0mcipher\u001b[0m \u001b[1;33m=\u001b[0m \u001b[0mBlowfish\u001b[0m\u001b[1;33m.\u001b[0m\u001b[0mnew\u001b[0m\u001b[1;33m(\u001b[0m\u001b[0mkey\u001b[0m\u001b[1;33m,\u001b[0m \u001b[0mBlowfish\u001b[0m\u001b[1;33m.\u001b[0m\u001b[0mMODE_CBC\u001b[0m\u001b[1;33m)\u001b[0m\u001b[1;33m\u001b[0m\u001b[1;33m\u001b[0m\u001b[0m\n\u001b[1;32m----> 7\u001b[1;33m \u001b[0mtexto_decifrado\u001b[0m \u001b[1;33m=\u001b[0m \u001b[0mdecifrar\u001b[0m\u001b[1;33m(\u001b[0m\u001b[0mtexto_cifrado\u001b[0m\u001b[1;33m,\u001b[0m \u001b[0mcipher\u001b[0m\u001b[1;33m)\u001b[0m\u001b[1;33m\u001b[0m\u001b[1;33m\u001b[0m\u001b[0m\n\u001b[0m",
      "\u001b[1;32m<ipython-input-41-589fa336e97d>\u001b[0m in \u001b[0;36mdecifrar\u001b[1;34m(ciphertext, cipher)\u001b[0m\n\u001b[0;32m     10\u001b[0m \u001b[1;33m\u001b[0m\u001b[0m\n\u001b[0;32m     11\u001b[0m \u001b[1;32mdef\u001b[0m \u001b[0mdecifrar\u001b[0m\u001b[1;33m(\u001b[0m\u001b[0mciphertext\u001b[0m\u001b[1;33m,\u001b[0m \u001b[0mcipher\u001b[0m\u001b[1;33m)\u001b[0m\u001b[1;33m:\u001b[0m\u001b[1;33m\u001b[0m\u001b[1;33m\u001b[0m\u001b[0m\n\u001b[1;32m---> 12\u001b[1;33m     \u001b[0mmsg\u001b[0m \u001b[1;33m=\u001b[0m \u001b[0munpad\u001b[0m\u001b[1;33m(\u001b[0m\u001b[0mcipher\u001b[0m\u001b[1;33m.\u001b[0m\u001b[0mdecrypt\u001b[0m\u001b[1;33m(\u001b[0m\u001b[0mciphertext\u001b[0m\u001b[1;33m)\u001b[0m\u001b[1;33m,\u001b[0m \u001b[0mBlowfish\u001b[0m\u001b[1;33m.\u001b[0m\u001b[0mblock_size\u001b[0m\u001b[1;33m)\u001b[0m\u001b[1;33m\u001b[0m\u001b[1;33m\u001b[0m\u001b[0m\n\u001b[0m\u001b[0;32m     13\u001b[0m     \u001b[1;32mreturn\u001b[0m \u001b[0mmsg\u001b[0m\u001b[1;33m\u001b[0m\u001b[1;33m\u001b[0m\u001b[0m\n",
      "\u001b[1;32mc:\\users\\schneider\\anaconda3\\envs\\dst\\lib\\site-packages\\Crypto\\Util\\Padding.py\u001b[0m in \u001b[0;36munpad\u001b[1;34m(padded_data, block_size, style)\u001b[0m\n\u001b[0;32m     88\u001b[0m         \u001b[0mpadding_len\u001b[0m \u001b[1;33m=\u001b[0m \u001b[0mbord\u001b[0m\u001b[1;33m(\u001b[0m\u001b[0mpadded_data\u001b[0m\u001b[1;33m[\u001b[0m\u001b[1;33m-\u001b[0m\u001b[1;36m1\u001b[0m\u001b[1;33m]\u001b[0m\u001b[1;33m)\u001b[0m\u001b[1;33m\u001b[0m\u001b[1;33m\u001b[0m\u001b[0m\n\u001b[0;32m     89\u001b[0m         \u001b[1;32mif\u001b[0m \u001b[0mpadding_len\u001b[0m\u001b[1;33m<\u001b[0m\u001b[1;36m1\u001b[0m \u001b[1;32mor\u001b[0m \u001b[0mpadding_len\u001b[0m\u001b[1;33m>\u001b[0m\u001b[0mmin\u001b[0m\u001b[1;33m(\u001b[0m\u001b[0mblock_size\u001b[0m\u001b[1;33m,\u001b[0m \u001b[0mpdata_len\u001b[0m\u001b[1;33m)\u001b[0m\u001b[1;33m:\u001b[0m\u001b[1;33m\u001b[0m\u001b[1;33m\u001b[0m\u001b[0m\n\u001b[1;32m---> 90\u001b[1;33m             \u001b[1;32mraise\u001b[0m \u001b[0mValueError\u001b[0m\u001b[1;33m(\u001b[0m\u001b[1;34m\"Padding is incorrect.\"\u001b[0m\u001b[1;33m)\u001b[0m\u001b[1;33m\u001b[0m\u001b[1;33m\u001b[0m\u001b[0m\n\u001b[0m\u001b[0;32m     91\u001b[0m         \u001b[1;32mif\u001b[0m \u001b[0mstyle\u001b[0m \u001b[1;33m==\u001b[0m \u001b[1;34m'pkcs7'\u001b[0m\u001b[1;33m:\u001b[0m\u001b[1;33m\u001b[0m\u001b[1;33m\u001b[0m\u001b[0m\n\u001b[0;32m     92\u001b[0m             \u001b[1;32mif\u001b[0m \u001b[0mpadded_data\u001b[0m\u001b[1;33m[\u001b[0m\u001b[1;33m-\u001b[0m\u001b[0mpadding_len\u001b[0m\u001b[1;33m:\u001b[0m\u001b[1;33m]\u001b[0m\u001b[1;33m!=\u001b[0m\u001b[0mbchr\u001b[0m\u001b[1;33m(\u001b[0m\u001b[0mpadding_len\u001b[0m\u001b[1;33m)\u001b[0m\u001b[1;33m*\u001b[0m\u001b[0mpadding_len\u001b[0m\u001b[1;33m:\u001b[0m\u001b[1;33m\u001b[0m\u001b[1;33m\u001b[0m\u001b[0m\n",
      "\u001b[1;31mValueError\u001b[0m: Padding is incorrect."
     ]
    }
   ],
   "source": [
    "plaintext= b'FURB'\n",
    "cipher = Blowfish.new(key, Blowfish.MODE_CBC) \n",
    "\n",
    "texto_cifrado = cifrar(plaintext, cipher)\n",
    "print('Conteúdo do texto cifrado em hexadecimal: ' + str(texto_cifrado.hex())) \n",
    "\n",
    "cipher = Blowfish.new(key, Blowfish.MODE_CBC) \n",
    "texto_decifrado = decifrar(texto_cifrado, cipher)"
   ]
  },
  {
   "cell_type": "code",
   "execution_count": 77,
   "metadata": {},
   "outputs": [],
   "source": [
    "# nao e possivel decifrar dessa maneira"
   ]
  },
  {
   "cell_type": "markdown",
   "metadata": {},
   "source": [
    "#### Caso 6: \n",
    "\n",
    "Criptografe o texto “FURB”, utilizando o modo de operação “CBC”.  Estabeleça que o vetor de inicialização seja constituído dos bytes: 1, 1, 2, 2, 3, 3, 4, 4.\n",
    "\n",
    "- Qual o conteúdo do texto cifrado?"
   ]
  },
  {
   "cell_type": "code",
   "execution_count": 46,
   "metadata": {},
   "outputs": [
    {
     "name": "stdout",
     "output_type": "stream",
     "text": [
      "Conteúdo do texto cifrado em hexadecimal: d501bf00b9540e80\n"
     ]
    }
   ],
   "source": [
    "plaintext= b'FURB'\n",
    "cipher = Blowfish.new(key, Blowfish.MODE_CBC, b\"11223344\")\n",
    "\n",
    "print('Conteúdo do texto cifrado em hexadecimal: ' + str(cifrar(plaintext, cipher).hex()))"
   ]
  },
  {
   "cell_type": "markdown",
   "metadata": {},
   "source": [
    "#### Caso 7: \n",
    "\n",
    "Criptografe o texto “SABONETESABONETESABONETE” e utilize o modo de operação “CBC”. Defina o vetor de inicialização constituído dos bytes 1, 1, 2, 2, 3, 3, 4, 4.\n",
    "\n",
    "- Qual o conteúdo do texto cifrado (em hexadecimal)?\n",
    "- Compare o texto cifrado com aquele obtido no caso 4 e apresente uma conclusão desta comparação."
   ]
  },
  {
   "cell_type": "code",
   "execution_count": 53,
   "metadata": {},
   "outputs": [
    {
     "name": "stdout",
     "output_type": "stream",
     "text": [
      "Conteúdo do texto cifrado em hexadecimal: 5e267fae3d5198723c204d864e749680eda90c98ca8acb6452c626e8f4ae0966\n",
      "Conteúdo do texto cifrado em hexadecimal do caso 4: 841091472604b96a841091472604b96a841091472604b96acdbc3e2fefa73bdd\n",
      "\n",
      "Conteúdo do texto cifrado em hexadecimal: 64\n",
      "O Tamanho foi duplicado\n"
     ]
    }
   ],
   "source": [
    "plaintext= b'SABONETESABONETESABONETE'\n",
    "cipher = Blowfish.new(key, Blowfish.MODE_CBC, b\"11223344\")\n",
    "\n",
    "print('Conteúdo do texto cifrado em hexadecimal: ' + str(cifrar(plaintext, cipher).hex()))\n",
    "print('Conteúdo do texto cifrado em hexadecimal do caso 4: 841091472604b96a841091472604b96a841091472604b96acdbc3e2fefa73bdd')\n",
    "\n",
    "print('\\nConteúdo do texto cifrado em hexadecimal: ' + str(len(cifrar(plaintext, cipher).hex())))\n",
    "print('O Tamanho foi duplicado')"
   ]
  },
  {
   "cell_type": "markdown",
   "metadata": {},
   "source": [
    "#### Caso 8:\n",
    "Criptografe o texto “SABONETESABONETESABONETE” e utilize o modo de operação “CBC”. \n",
    "Defina o vetor de inicialização constituído dos bytes 10,20,30,40,50,60,70,80. \n",
    "\n",
    "- Qual o conteúdo do texto cifrado?\n",
    "- Compare o texto cifrado com o que foi obtido no caso 7 e apresente conclusão sobre a comparação\n",
    "- A partir do resultado do tópico anterior, decriptografe a mensagem usando o vetor de inicialização constituído dos bytes 1, 1, 2, 2, 3, 3, 4, 4.  Qual a conclusão que você atinge?"
   ]
  },
  {
   "cell_type": "code",
   "execution_count": 76,
   "metadata": {},
   "outputs": [
    {
     "name": "stdout",
     "output_type": "stream",
     "text": [
      "Conteúdo do texto cifrado em hexadecimal: b7504dce335d08d7d094d8898ec4d7681e3a53f230ebeef27c388906acdb1b32\n",
      "\n",
      "Conteúdo do texto cifrado em hexadecimal do caso 7: 5e267fae3d5198723c204d864e749680eda90c98ca8acb6452c626e8f4ae0966\n",
      "Tamanho do texto cifrado em hexadecimal: 64\n",
      "O tamanho do vetor de inicialização interfere no tamanho do texto cifrado\n",
      "\n",
      "b'hdnUOJ&!SABONETESABONETE'\n",
      "b'SABONETESABONETESABONETE'\n",
      "O vetor de inicialização deve ser o mesmo que o utilizado para a cifragem, caso contrario ele irá interferir no primeiro bloco, decifrando incorretamente.\n"
     ]
    }
   ],
   "source": [
    "plaintext= b'SABONETESABONETESABONETE'\n",
    "vetor_inicializacao = [10, 20, 30, 40, 50, 60, 70, 80]\n",
    "cipher = Blowfish.new(key, Blowfish.MODE_CBC, bytes(vetor_inicializacao))\n",
    "\n",
    "texto_cifrado = cifrar(plaintext, cipher)\n",
    "print('Conteúdo do texto cifrado em hexadecimal: ' + str(cifrar(plaintext, cipher).hex()))\n",
    "print('\\nConteúdo do texto cifrado em hexadecimal do caso 7: 5e267fae3d5198723c204d864e749680eda90c98ca8acb6452c626e8f4ae0966')\n",
    "print('Tamanho do texto cifrado em hexadecimal: ' + str(len(cifrar(plaintext, cipher).hex())))\n",
    "print('O tamanho do vetor de inicialização interfere no tamanho do texto cifrado\\n')\n",
    "\n",
    "cipher = Blowfish.new(key, Blowfish.MODE_CBC, b\"11223344\") \n",
    "texto_decifrado = decifrar(texto_cifrado, cipher)\n",
    "print(texto_decifrado)\n",
    "\n",
    "cipher = Blowfish.new(key, Blowfish.MODE_CBC, bytes(vetor_inicializacao)) \n",
    "texto_decifrado = decifrar(texto_cifrado, cipher)\n",
    "print(texto_decifrado)\n",
    "print(\"O vetor de inicialização deve ser o mesmo que o utilizado para a cifragem, caso contrario ele irá interferir no primeiro bloco, decifrando incorretamente.\")"
   ]
  },
  {
   "cell_type": "code",
   "execution_count": null,
   "metadata": {},
   "outputs": [],
   "source": []
  }
 ],
 "metadata": {
  "kernelspec": {
   "display_name": "Python 3",
   "language": "python",
   "name": "python3"
  },
  "language_info": {
   "codemirror_mode": {
    "name": "ipython",
    "version": 3
   },
   "file_extension": ".py",
   "mimetype": "text/x-python",
   "name": "python",
   "nbconvert_exporter": "python",
   "pygments_lexer": "ipython3",
   "version": "3.7.4"
  }
 },
 "nbformat": 4,
 "nbformat_minor": 2
}
