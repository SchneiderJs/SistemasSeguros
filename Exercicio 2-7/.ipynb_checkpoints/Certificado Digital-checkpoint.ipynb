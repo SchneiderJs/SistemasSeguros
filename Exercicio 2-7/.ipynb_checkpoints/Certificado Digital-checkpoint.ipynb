{
 "cells": [
  {
   "cell_type": "markdown",
   "metadata": {},
   "source": [
    "# Certificado Digital\n",
    "\n",
    "#### Alunos: Gabriel Schneider e Luciane Tedesco "
   ]
  },
  {
   "cell_type": "markdown",
   "metadata": {},
   "source": [
    "#### Questão 1\n",
    "\n",
    "Crie um programa que abra a keystore e exiba as seguintes propriedades dos certificados importados:\n",
    "\n",
    "- Quem é o proprietário do certificado ?\n",
    "- Quem é o emissor do certificado?\n",
    "- Identifique se o certificado é auto-assinado ou não."
   ]
  },
  {
   "cell_type": "code",
   "execution_count": 29,
   "metadata": {},
   "outputs": [
    {
     "name": "stderr",
     "output_type": "stream",
     "text": [
      "UsageError: Line magic function `%path` not found.\n"
     ]
    }
   ],
   "source": [
    "%path C:\\Program Files (x86)\\Java\\jdk1.8.0_161\\bin\n",
    "%keytool -genkey -v -keystore my-release-key.keystore -alias alias_name -keyalg RSA -keysize 2048 -validity 10000"
   ]
  },
  {
   "cell_type": "code",
   "execution_count": 30,
   "metadata": {},
   "outputs": [
    {
     "name": "stdout",
     "output_type": "stream",
     "text": [
      "Unlocked in trial mode.\n",
      "ChilkatLog:\r\n",
      "  UnlockBundle:\r\n",
      "    DllDate: Oct 28 2019\r\n",
      "    ChilkatVersion: 9.5.0.80\r\n",
      "    UnlockPrefix: Anything for 30-day trial\r\n",
      "    Architecture: Little Endian; 64-bit\r\n",
      "    Language: Windows Python 3.*\r\n",
      "    VerboseLogging: 0\r\n",
      "    component: Global\r\n",
      "    Component successfully unlocked using trial key\r\n",
      "    Success.\r\n",
      "  --UnlockBundle\r\n",
      "--ChilkatLog\r\n",
      "\n"
     ]
    }
   ],
   "source": [
    "import sys\n",
    "import chilkat\n",
    "\n",
    "# The Chilkat API can be unlocked for a fully-functional 30-day trial by passing any\n",
    "# string to the UnlockBundle method.  A program can unlock once at the start. Once unlocked,\n",
    "# all subsequently instantiated objects are created in the unlocked state. \n",
    "# \n",
    "# After licensing Chilkat, replace the \"Anything for 30-day trial\" with the purchased unlock code.\n",
    "# To verify the purchased unlock code was recognized, examine the contents of the LastErrorText\n",
    "# property after unlocking.  For example:\n",
    "glob = chilkat.CkGlobal()\n",
    "success = glob.UnlockBundle(\"Anything for 30-day trial\")\n",
    "if (success != True):\n",
    "    print(glob.lastErrorText())\n",
    "    sys.exit()\n",
    "\n",
    "status = glob.get_UnlockStatus()\n",
    "if (status == 2):\n",
    "    print(\"Unlocked using purchased unlock code.\")\n",
    "else:\n",
    "    print(\"Unlocked in trial mode.\")\n",
    "\n",
    "# The LastErrorText can be examined in the success case to see if it was unlocked in\n",
    "# trial more, or with a purchased unlock code.\n",
    "print(glob.lastErrorText())"
   ]
  },
  {
   "cell_type": "code",
   "execution_count": 34,
   "metadata": {},
   "outputs": [
    {
     "name": "stdout",
     "output_type": "stream",
     "text": [
      "ChilkatLog:\r\n",
      "  LoadFile:\r\n",
      "    DllDate: Oct 28 2019\r\n",
      "    ChilkatVersion: 9.5.0.80\r\n",
      "    UnlockPrefix: Anything for 30-day trial\r\n",
      "    Architecture: Little Endian; 64-bit\r\n",
      "    Language: Windows Python 3.*\r\n",
      "    VerboseLogging: 0\r\n",
      "    path: keyStore.jks\r\n",
      "    loadJksBinary:\r\n",
      "      magicNumber: 0xfeedfeed\r\n",
      "      JksVersion: 2\r\n",
      "      numEntries: 4\r\n",
      "      alias: *.furb.br (icpedu)\r\n",
      "      alias: gilvan justino\r\n",
      "      alias: www.angeloni.com.br (go daddy secure certificate authority - g2)\r\n",
      "      alias: www.guiadoestudante.abril.com.br (let's encrypt authority x3)\r\n",
      "      keyed digest verification failed.\r\n",
      "      keyedDigestVerified: 0\r\n",
      "    --loadJksBinary\r\n",
      "    Failed.\r\n",
      "  --LoadFile\r\n",
      "--ChilkatLog\r\n",
      "\n",
      "Trusted Certs:\n",
      "*.furb.br (icpedu): C=BR, ST=Santa Catarina, L=Blumenau, O=Fundacao Universidade Regional de Blumenau, CN=*.furb.br\n",
      "gilvan justino: C=BR, ST=SC, L=Blumenau, OU=FURB, CN=Gilvan Justino\n",
      "www.angeloni.com.br (go daddy secure certificate authority - g2): OID.1.3.6.1.4.1.311.60.2.1.3=BR, BusinessCategory=Private Organization, SERIALNUMBER=83.646.984/0006-14, C=BR, ST=Santa Catarina, L=Criciuma, O=A. Angeloni & Cia. Ltda, CN=www.angeloni.com.br\n",
      "www.guiadoestudante.abril.com.br (let's encrypt authority x3): CN=www.guiadoestudante.abril.com.br\n",
      "Private Keys:\n"
     ]
    }
   ],
   "source": [
    "import sys\n",
    "import chilkat\n",
    "\n",
    "#  This requires the Chilkat API to have been previously unlocked.\n",
    "#  See Global Unlock Sample for sample code.\n",
    "\n",
    "jks = chilkat.CkJavaKeyStore()\n",
    "\n",
    "success = jks.LoadFile(\"112233\",\"keyStore.jks\")\n",
    "if (success != True):\n",
    "    print(jks.lastErrorText())\n",
    "    #sys.exit()\n",
    "    \n",
    "\n",
    "#  Find out how many of each type of entry:\n",
    "numTrustedCerts = jks.get_NumTrustedCerts()\n",
    "numPrivateKeys = jks.get_NumPrivateKeys()\n",
    "\n",
    "#  For each trusted certificate, access it by getting\n",
    "#  it as a cert object.  Also get the alias associated with the certificate.\n",
    "print(\"Trusted Certs:\")\n",
    "i = 0\n",
    "while i < numTrustedCerts :\n",
    "    # cert is a CkCert\n",
    "    cert = jks.GetTrustedCert(i)\n",
    "    print(jks.getTrustedCertAlias(i) + \": \" + cert.subjectDN())\n",
    "\n",
    "    i = i + 1\n",
    "\n",
    "#  For each private key entry, get the private key and\n",
    "#  the associated certificate chain.\n",
    "#  Each private key is password protected.  Usually it is the same\n",
    "#  password as used for the keyed digest of the entire JKS.\n",
    "#  However, this does not have to be.  The password is passed\n",
    "#  here to handle the possibility of each private key requiring\n",
    "#  a different password.\n",
    "print(\"Private Keys:\")\n",
    "i = 0\n",
    "while i < numPrivateKeys :\n",
    "    # privKey is a CkPrivateKey\n",
    "    privKey = jks.GetPrivateKey(\"112233\",i)\n",
    "    print(jks.getPrivateKeyAlias(i))\n",
    "    # certChain is a CkCertChain\n",
    "    certChain = jks.GetCertChain(i)\n",
    "\n",
    "    #  The 1st certificate in the chain is the one associated with the private key.\n",
    "    # cert is a CkCert\n",
    "    cert = certChain.GetCert(0)\n",
    "    print(cert.subjectDN())\n",
    "\n",
    "    i = i + 1"
   ]
  },
  {
   "cell_type": "markdown",
   "metadata": {},
   "source": [
    "#### Questão 2\n",
    "\n",
    "Cifre a imagem com o algoritmo AES utilizando a chave constituída de 16 bytes com caractere “A”. Gere a saída com valor “questao1.aes”.\n",
    "\n",
    "Utilize a chave pública do certificado importado para cifrar a chave do algoritmo simétrico. Armazene a chave num arquivo binário chamado “key.aes”."
   ]
  },
  {
   "cell_type": "code",
   "execution_count": null,
   "metadata": {},
   "outputs": [],
   "source": []
  },
  {
   "cell_type": "code",
   "execution_count": null,
   "metadata": {},
   "outputs": [],
   "source": []
  }
 ],
 "metadata": {
  "kernelspec": {
   "display_name": "Python 3",
   "language": "python",
   "name": "python3"
  },
  "language_info": {
   "codemirror_mode": {
    "name": "ipython",
    "version": 3
   },
   "file_extension": ".py",
   "mimetype": "text/x-python",
   "name": "python",
   "nbconvert_exporter": "python",
   "pygments_lexer": "ipython3",
   "version": "3.7.4"
  }
 },
 "nbformat": 4,
 "nbformat_minor": 2
}
