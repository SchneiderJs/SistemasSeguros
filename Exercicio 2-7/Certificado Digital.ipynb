{
 "cells": [
  {
   "cell_type": "markdown",
   "metadata": {},
   "source": [
    "# Certificado Digital\n",
    "\n",
    "#### Alunos: Gabriel Schneider e Luciane Tedesco "
   ]
  },
  {
   "cell_type": "markdown",
   "metadata": {},
   "source": [
    "#### Questão 1\n",
    "\n",
    "Crie um programa que abra a keystore e exiba as seguintes propriedades dos certificados importados:\n",
    "\n",
    "- Quem é o proprietário do certificado ?\n",
    "- Quem é o emissor do certificado?\n",
    "- Identifique se o certificado é auto-assinado ou não."
   ]
  },
  {
   "cell_type": "code",
   "execution_count": 9,
   "metadata": {},
   "outputs": [
    {
     "name": "stdout",
     "output_type": "stream",
     "text": [
      "{}\n",
      "{'*.furb.br (icpedu)': <jks.jks.TrustedCertEntry object at 0x7f5a68ccc5f8>, 'gilvan justino': <jks.jks.TrustedCertEntry object at 0x7f5a68cccb00>, 'www.angeloni.com.br (go daddy secure certificate authority - g2)': <jks.jks.TrustedCertEntry object at 0x7f5a68cccb70>, \"www.guiadoestudante.abril.com.br (let's encrypt authority x3)\": <jks.jks.TrustedCertEntry object at 0x7f5a68cccbe0>}\n",
      "{}\n"
     ]
    }
   ],
   "source": [
    "#https://pyjks.readthedocs.io/en/latest/#\n",
    "import jks\n",
    "\n",
    "ks = jks.KeyStore.load('keystore.jks', 'dss')\n",
    "\n",
    "print(ks.private_keys)\n",
    "print(ks.certs)\n",
    "print(ks.secret_keys)"
   ]
  },
  {
   "cell_type": "markdown",
   "metadata": {},
   "source": [
    "#### Questão 2\n",
    "\n",
    "Cifre a imagem com o algoritmo AES utilizando a chave constituída de 16 bytes com caractere “A”. Gere a saída com valor “questao1.aes”.\n",
    "\n",
    "Utilize a chave pública do certificado importado para cifrar a chave do algoritmo simétrico. Armazene a chave num arquivo binário chamado “key.aes”."
   ]
  },
  {
   "cell_type": "code",
   "execution_count": null,
   "metadata": {},
   "outputs": [],
   "source": []
  },
  {
   "cell_type": "code",
   "execution_count": null,
   "metadata": {},
   "outputs": [],
   "source": []
  }
 ],
 "metadata": {
  "kernelspec": {
   "display_name": "Python 3",
   "language": "python",
   "name": "python3"
  },
  "language_info": {
   "codemirror_mode": {
    "name": "ipython",
    "version": 3
   },
   "file_extension": ".py",
   "mimetype": "text/x-python",
   "name": "python",
   "nbconvert_exporter": "python",
   "pygments_lexer": "ipython3",
   "version": "3.7.3"
  }
 },
 "nbformat": 4,
 "nbformat_minor": 2
}
