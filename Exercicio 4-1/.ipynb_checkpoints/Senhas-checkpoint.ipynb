{
 "cells": [
  {
   "cell_type": "code",
   "execution_count": 2,
   "metadata": {},
   "outputs": [
    {
     "ename": "UndefinedTable",
     "evalue": "table \"usuario\" does not exist\n",
     "output_type": "error",
     "traceback": [
      "\u001b[1;31m---------------------------------------------------------------------------\u001b[0m",
      "\u001b[1;31mUndefinedTable\u001b[0m                            Traceback (most recent call last)",
      "\u001b[1;32m<ipython-input-2-0fb7efd6b897>\u001b[0m in \u001b[0;36m<module>\u001b[1;34m\u001b[0m\n\u001b[1;32m----> 1\u001b[1;33m \u001b[0mcursor\u001b[0m\u001b[1;33m.\u001b[0m\u001b[0mexecute\u001b[0m\u001b[1;33m(\u001b[0m\u001b[1;34m\"\"\"drop TABLE usuario;\"\"\"\u001b[0m\u001b[1;33m)\u001b[0m\u001b[1;33m\u001b[0m\u001b[1;33m\u001b[0m\u001b[0m\n\u001b[0m",
      "\u001b[1;31mUndefinedTable\u001b[0m: table \"usuario\" does not exist\n"
     ]
    }
   ],
   "source": [
    "cursor.execute(\"\"\"drop TABLE usuario;\"\"\")"
   ]
  },
  {
   "cell_type": "markdown",
   "metadata": {},
   "source": [
    "# Senhas\n",
    "\n",
    "#### Alunos: Gabriel Schneider e Luciane Tedesco "
   ]
  },
  {
   "cell_type": "markdown",
   "metadata": {},
   "source": [
    "#### Questão 1\n",
    "\n",
    "* Crie um programa que utilize banco de dados.\n",
    "* Para entrar no programa, será preciso informar usuário e respectiva senha.\n",
    "* O programa deve permitir criar novos usuários.\n",
    "* As senhas dos usuários devem ser armazenadas no banco de dados utilizando-se um algoritmo de resumo e sal."
   ]
  },
  {
   "cell_type": "code",
   "execution_count": 10,
   "metadata": {},
   "outputs": [],
   "source": [
    "import psycopg2\n",
    "\n",
    "connection = psycopg2.connect(user = \"postgres\",\n",
    "                                password = \"4560\",\n",
    "                                host=\"localhost\",\n",
    "                                port = \"5432\",\n",
    "                                database = \"postgres\")\n",
    "cursor = connection.cursor()"
   ]
  },
  {
   "cell_type": "code",
   "execution_count": 11,
   "metadata": {},
   "outputs": [],
   "source": [
    "cursor.execute(\"\"\"create TABLE usuario (id_usuario serial primary key, \n",
    "                                        nm_usuario varchar(50) not null, \n",
    "                                        senha varchar(500) not null );\"\"\")"
   ]
  },
  {
   "cell_type": "code",
   "execution_count": 12,
   "metadata": {},
   "outputs": [],
   "source": [
    "import hashlib\n",
    "\n",
    "def gerar_resumo_sal(senha):\n",
    "    sal = senha[1:2]\n",
    "    string_geracao = senha + sal\n",
    "    \n",
    "    return hashlib.sha256(string_geracao.encode('utf-8')).hexdigest()"
   ]
  },
  {
   "cell_type": "code",
   "execution_count": 13,
   "metadata": {},
   "outputs": [],
   "source": [
    "def novo_usuario(usuario, senha):\n",
    "    resumo_sal = gerar_resumo_sal(senha)\n",
    "    print(\"insert into usuario (nm_usuario, senha) values ('{}', '{}');\".format(usuario, resumo_sal))\n",
    "    cursor.execute(\"insert into usuario (nm_usuario, senha) values ('{}', '{}');\".format(usuario, resumo_sal))"
   ]
  },
  {
   "cell_type": "code",
   "execution_count": 24,
   "metadata": {},
   "outputs": [],
   "source": [
    "def verificar_usuario(usuario, senha):\n",
    "    resumo_sal = gerar_resumo_sal(senha)\n",
    "    cursor.execute(\"select * from usuario where nm_usuario = '{}' and senha = '{}';\".format(usuario, resumo_sal))\n",
    "    return cursor.fetchone()"
   ]
  },
  {
   "cell_type": "markdown",
   "metadata": {},
   "source": [
    "###### Criar novos usuários:"
   ]
  },
  {
   "cell_type": "code",
   "execution_count": 15,
   "metadata": {},
   "outputs": [
    {
     "name": "stdout",
     "output_type": "stream",
     "text": [
      "Informe o nome do novo usuário: Lu\n"
     ]
    }
   ],
   "source": [
    "novo_user = input('Informe o nome do novo usuário: ')"
   ]
  },
  {
   "cell_type": "code",
   "execution_count": 16,
   "metadata": {},
   "outputs": [
    {
     "name": "stdout",
     "output_type": "stream",
     "text": [
      "Informe a senha para o novo usuário: abcde\n"
     ]
    }
   ],
   "source": [
    "nova_senha = input('Informe a senha para o novo usuário: ')"
   ]
  },
  {
   "cell_type": "code",
   "execution_count": 17,
   "metadata": {},
   "outputs": [
    {
     "name": "stdout",
     "output_type": "stream",
     "text": [
      "insert into usuario (nm_usuario, senha) values ('Lu', '1f4eeaeae037b177fc5444371dbd869eeb74c2a18ed70054c08c5a11b68fc37a');\n"
     ]
    }
   ],
   "source": [
    "novo_usuario(novo_user, nova_senha)"
   ]
  },
  {
   "cell_type": "markdown",
   "metadata": {},
   "source": [
    "###### Logar:"
   ]
  },
  {
   "cell_type": "code",
   "execution_count": 18,
   "metadata": {},
   "outputs": [
    {
     "name": "stdout",
     "output_type": "stream",
     "text": [
      "Informe o seu usuário: Lu\n"
     ]
    }
   ],
   "source": [
    "usuario = input('Informe o seu usuário: ')"
   ]
  },
  {
   "cell_type": "code",
   "execution_count": 19,
   "metadata": {},
   "outputs": [
    {
     "name": "stdout",
     "output_type": "stream",
     "text": [
      "Informe a sua senha: abcde\n"
     ]
    }
   ],
   "source": [
    "senha = input('Informe a sua senha: ')"
   ]
  },
  {
   "cell_type": "code",
   "execution_count": 25,
   "metadata": {},
   "outputs": [
    {
     "name": "stdout",
     "output_type": "stream",
     "text": [
      "(1, 'Lu', '1f4eeaeae037b177fc5444371dbd869eeb74c2a18ed70054c08c5a11b68fc37a')\n"
     ]
    }
   ],
   "source": [
    "selected_user = verificar_usuario(usuario, senha)\n",
    "\n",
    "print(selected_user)"
   ]
  },
  {
   "cell_type": "markdown",
   "metadata": {},
   "source": [
    "#### Informações e evidências:"
   ]
  },
  {
   "cell_type": "markdown",
   "metadata": {},
   "source": [
    "1. O algoritmo de resumo que foi utilizado para gerar o hash das senhas:"
   ]
  },
  {
   "cell_type": "markdown",
   "metadata": {},
   "source": [
    "Resposta: O algoritmo de resumo utilizado para gerar o hash foi o SHA-256."
   ]
  },
  {
   "cell_type": "markdown",
   "metadata": {},
   "source": [
    "2. Estratégia de seleção do sal:"
   ]
  },
  {
   "cell_type": "markdown",
   "metadata": {},
   "source": [
    "Resposta: O sal é os caracteres das posições 2 e 3 da senha."
   ]
  },
  {
   "cell_type": "markdown",
   "metadata": {},
   "source": [
    "3. Print com tabela de banco de dados com o usuário e respectivo hash:"
   ]
  },
  {
   "cell_type": "code",
   "execution_count": null,
   "metadata": {},
   "outputs": [],
   "source": []
  }
 ],
 "metadata": {
  "kernelspec": {
   "display_name": "Python 3",
   "language": "python",
   "name": "python3"
  },
  "language_info": {
   "codemirror_mode": {
    "name": "ipython",
    "version": 3
   },
   "file_extension": ".py",
   "mimetype": "text/x-python",
   "name": "python",
   "nbconvert_exporter": "python",
   "pygments_lexer": "ipython3",
   "version": "3.7.4"
  }
 },
 "nbformat": 4,
 "nbformat_minor": 2
}
