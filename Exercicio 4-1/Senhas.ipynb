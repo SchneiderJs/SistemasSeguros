{
 "cells": [
  {
   "cell_type": "markdown",
   "metadata": {},
   "source": [
    "# Senhas\n",
    "\n",
    "#### Alunos: Gabriel Schneider e Luciane Tedesco "
   ]
  },
  {
   "cell_type": "markdown",
   "metadata": {},
   "source": [
    "#### Questão 1\n",
    "\n",
    "* Crie um programa que utilize banco de dados.\n",
    "* Para entrar no programa, será preciso informar usuário e respectiva senha.\n",
    "* O programa deve permitir criar novos usuários.\n",
    "* As senhas dos usuários devem ser armazenadas no banco de dados utilizando-se um algoritmo de resumo e sal."
   ]
  },
  {
   "cell_type": "code",
   "execution_count": null,
   "metadata": {},
   "outputs": [],
   "source": [
    "import psycopg2\n",
    "\n",
    "connection = psycopg2.connect(user = \"postgres\",\n",
    "                                password = \"postgres\",\n",
    "                                host=\"localhost\",\n",
    "                                port = \"5432\",\n",
    "                                database = \"postgres\")\n",
    "cursor = connection.cursor()"
   ]
  },
  {
   "cell_type": "code",
   "execution_count": null,
   "metadata": {},
   "outputs": [],
   "source": [
    "cursor.execute(\"\"\"create TABLE usuario (id_usuario serial primary key, \n",
    "                                        nm_usuario varchar(50) not null, \n",
    "                                        senha varchar(50) not null );\"\"\")"
   ]
  },
  {
   "cell_type": "code",
   "execution_count": null,
   "metadata": {},
   "outputs": [],
   "source": [
    "import hashlib\n",
    "\n",
    "def gerar_resumo_sal(senha):\n",
    "    sal = senha[1:2]\n",
    "    string_geracao = senha + sal\n",
    "    \n",
    "    return hashlib.sha256(senha_resumo_sal.encode('utf-8')).hexdigest()"
   ]
  },
  {
   "cell_type": "code",
   "execution_count": null,
   "metadata": {},
   "outputs": [],
   "source": [
    "def novo_usuario(usuario, senha):\n",
    "    resumo_sal = gerar_resumo_sal(senha)\n",
    "    \n",
    "    cursor.execute(\"insert into usuario (nm_usuario, senha) values ('%s', '%s');\" %usuario %resumo_sal)"
   ]
  },
  {
   "cell_type": "code",
   "execution_count": null,
   "metadata": {},
   "outputs": [],
   "source": [
    "def verificar_usuario(usuario, senha):\n",
    "    resumo_sal = gerar_resumo_sal(senha)\n",
    "    \n",
    "    cursor.execute(\"select * from usuario where nm_usuario = '%s' and senha = '%s');\" %usuario %resumo_sal)"
   ]
  },
  {
   "cell_type": "markdown",
   "metadata": {},
   "source": [
    "###### Criar novos usuários:"
   ]
  },
  {
   "cell_type": "code",
   "execution_count": null,
   "metadata": {},
   "outputs": [],
   "source": [
    "novo_usuario = input('Informe o nome do novo usuário: ')"
   ]
  },
  {
   "cell_type": "code",
   "execution_count": null,
   "metadata": {},
   "outputs": [],
   "source": [
    "nova_senha = input('Informe a senha para o novo usuário: ')"
   ]
  },
  {
   "cell_type": "code",
   "execution_count": null,
   "metadata": {},
   "outputs": [],
   "source": [
    "novo_usuario(novo_usuario, nova_senha)"
   ]
  },
  {
   "cell_type": "markdown",
   "metadata": {},
   "source": [
    "###### Logar:"
   ]
  },
  {
   "cell_type": "code",
   "execution_count": null,
   "metadata": {},
   "outputs": [],
   "source": [
    "usuario = input('Informe o seu usuário: ')"
   ]
  },
  {
   "cell_type": "code",
   "execution_count": null,
   "metadata": {},
   "outputs": [],
   "source": [
    "senha = input('Informe a sua senha: ')"
   ]
  },
  {
   "cell_type": "code",
   "execution_count": null,
   "metadata": {},
   "outputs": [],
   "source": [
    "verificar_usuario(usuario, senha)"
   ]
  },
  {
   "cell_type": "markdown",
   "metadata": {},
   "source": [
    "#### Informações e evidências:"
   ]
  },
  {
   "cell_type": "markdown",
   "metadata": {},
   "source": [
    "1. O algoritmo de resumo que foi utilizado para gerar o hash das senhas:"
   ]
  },
  {
   "cell_type": "markdown",
   "metadata": {},
   "source": [
    "Resposta: O algoritmo de resumo utilizado para gerar o hash foi o SHA-256."
   ]
  },
  {
   "cell_type": "markdown",
   "metadata": {},
   "source": [
    "2. Estratégia de seleção do sal:"
   ]
  },
  {
   "cell_type": "markdown",
   "metadata": {},
   "source": [
    "Resposta: O sal é os caracteres das posições 2 e 3 da senha."
   ]
  },
  {
   "cell_type": "markdown",
   "metadata": {},
   "source": [
    "3. Print com tabela de banco de dados com o usuário e respectivo hash:"
   ]
  },
  {
   "cell_type": "code",
   "execution_count": null,
   "metadata": {},
   "outputs": [],
   "source": []
  }
 ],
 "metadata": {
  "kernelspec": {
   "display_name": "Python 3",
   "language": "python",
   "name": "python3"
  },
  "language_info": {
   "codemirror_mode": {
    "name": "ipython",
    "version": 3
   },
   "file_extension": ".py",
   "mimetype": "text/x-python",
   "name": "python",
   "nbconvert_exporter": "python",
   "pygments_lexer": "ipython3",
   "version": "3.7.3"
  }
 },
 "nbformat": 4,
 "nbformat_minor": 2
}
