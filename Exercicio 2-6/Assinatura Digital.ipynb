{
 "cells": [
  {
   "cell_type": "markdown",
   "metadata": {},
   "source": [
    "# Assinatura Digital\n",
    "\n",
    "#### Alunos: Gabriel Schneider e Luciane Tedesco "
   ]
  },
  {
   "cell_type": "markdown",
   "metadata": {},
   "source": [
    "#### Questão 1\n",
    "\n",
    "- Crie dois pares de chaves (par de chaves A e par de chaves B) e armazene-os em disco."
   ]
  },
  {
   "cell_type": "code",
   "execution_count": 67,
   "metadata": {},
   "outputs": [],
   "source": [
    "from cryptography.hazmat.primitives.asymmetric import rsa\n",
    "from cryptography.hazmat.backends import default_backend\n",
    "\n",
    "private_key_A = rsa.generate_private_key(\n",
    "    public_exponent=65537,\n",
    "    key_size=4096,\n",
    "    backend=default_backend()\n",
    ")\n",
    "public_key_A = private_key_A.public_key()\n",
    "\n",
    "private_key_B = rsa.generate_private_key(\n",
    "    public_exponent=65537,\n",
    "    key_size=4096,\n",
    "    backend=default_backend()\n",
    ")\n",
    "public_key_B= private_key_B.public_key()"
   ]
  },
  {
   "cell_type": "markdown",
   "metadata": {},
   "source": [
    "#### Questão 2\n",
    "\n",
    "- Crie um programa que possibilite que o usuário forneça um documento para assinar. Utilize a chave de A para assinar a mensagem e armazene a assinatura em um arquivo binário."
   ]
  },
  {
   "cell_type": "code",
   "execution_count": 72,
   "metadata": {},
   "outputs": [],
   "source": [
    "from cryptography.hazmat.primitives import hashes\n",
    "from cryptography.hazmat.primitives.asymmetric import padding\n",
    "\n",
    "# read user document\n",
    "with open('document.txt', 'r') as file:\n",
    "    msg = file.read()\n",
    "\n",
    "# sign the message\n",
    "signature = private_key_A.sign(\n",
    "    data=msg.encode('utf-8'),\n",
    "    padding=padding.PSS(\n",
    "        mgf=padding.MGF1(hashes.SHA256()),\n",
    "        salt_length=padding.PSS.MAX_LENGTH\n",
    "    ),\n",
    "    algorithm=hashes.SHA256() \n",
    ")\n",
    "\n",
    "# save signature\n",
    "with open(\"signature.txt\",\"wb\") as file:\n",
    "    file.write(signature)"
   ]
  },
  {
   "cell_type": "markdown",
   "metadata": {},
   "source": [
    "#### Questão 3\n",
    "\n",
    "- Crie um programa que valide a origem do arquivo. Experimente utilizar a chave de A para validar que a mensagem é de autoria de A"
   ]
  },
  {
   "cell_type": "code",
   "execution_count": 77,
   "metadata": {},
   "outputs": [
    {
     "name": "stdout",
     "output_type": "stream",
     "text": [
      "A mensagem é de autoria de A\n"
     ]
    }
   ],
   "source": [
    "from cryptography.exceptions import InvalidSignature\n",
    "\n",
    "try:\n",
    "    public_key_A.verify(\n",
    "        signature=signature,\n",
    "        data=msg.encode('utf-8'),\n",
    "        padding=padding.PSS(\n",
    "            mgf=padding.MGF1(hashes.SHA256()),\n",
    "            salt_length=padding.PSS.MAX_LENGTH\n",
    "        ),\n",
    "        algorithm=hashes.SHA256()\n",
    "    )\n",
    "    True\n",
    "    print('A mensagem é de autoria de A')\n",
    "except InvalidSignature:\n",
    "    False\n",
    "    print('A mensagem não é de autoria de A')"
   ]
  },
  {
   "cell_type": "markdown",
   "metadata": {},
   "source": [
    "#### Questão 4\n",
    "- Experimente utilizar a chave B para validar a autoria do arquivo. O que acontece?"
   ]
  },
  {
   "cell_type": "code",
   "execution_count": 78,
   "metadata": {},
   "outputs": [
    {
     "name": "stdout",
     "output_type": "stream",
     "text": [
      "A mensagem não é de autoria de B\n"
     ]
    }
   ],
   "source": [
    "try:\n",
    "    public_key_B.verify(\n",
    "        signature=signature,\n",
    "        data=msg.encode('utf-8'),\n",
    "        padding=padding.PSS(\n",
    "            mgf=padding.MGF1(hashes.SHA256()),\n",
    "            salt_length=padding.PSS.MAX_LENGTH\n",
    "        ),\n",
    "        algorithm=hashes.SHA256()\n",
    "    )\n",
    "    True\n",
    "    print('A mensagem é de autoria de B')\n",
    "except InvalidSignature:\n",
    "    False\n",
    "    print('A mensagem não é de autoria de B')"
   ]
  }
 ],
 "metadata": {
  "kernelspec": {
   "display_name": "Python 3",
   "language": "python",
   "name": "python3"
  },
  "language_info": {
   "codemirror_mode": {
    "name": "ipython",
    "version": 3
   },
   "file_extension": ".py",
   "mimetype": "text/x-python",
   "name": "python",
   "nbconvert_exporter": "python",
   "pygments_lexer": "ipython3",
   "version": "3.7.3"
  }
 },
 "nbformat": 4,
 "nbformat_minor": 2
}
